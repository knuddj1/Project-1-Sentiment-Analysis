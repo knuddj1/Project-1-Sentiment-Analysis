{
 "cells": [
  {
   "cell_type": "code",
   "execution_count": 24,
   "metadata": {},
   "outputs": [],
   "source": [
    "#\n",
    "\n",
    "# from IPython.display import HTML\n",
    "# HTML(open('notebook.css').read())"
   ]
  },
  {
   "cell_type": "markdown",
   "metadata": {},
   "source": [
    "<h1 style=\"font-size:40px; text-align: center;\">Project 1 Report -  Dean Knudson</h1>"
   ]
  },
  {
   "cell_type": "markdown",
   "metadata": {},
   "source": [
    "<h2>Overview</h2>"
   ]
  },
  {
   "cell_type": "markdown",
   "metadata": {},
   "source": [
    "<p style=\"font-size:16px;\">\n",
    "For my third year project I have continued working with David Rozado on a Sentiment Analysis Engine.\n",
    "</p>\n",
    "\n",
    "<p style=\"font-size:16px;\">\n",
    "Last semester, as part of a special topic study, I began learning about, and creating models for, Sentiment Analysis. The intentions of this project were to create a model that would correctly predict the sentiment of a given piece of text 80% of time. David offered for me to continue working on the problem this semester. Due to to the fact I didn't achieve the result above and the availability of recent advancements in the field of NLP, I accepted.\n",
    "</p>\n",
    "\n",
    "<p style=\"font-size:16px;\">\n",
    "More details on my work last semester can be found \n",
    "<a href=\"https://github.com/knuddj1/Sentiment-Analysis/blob/master/recap%20stuff/semester_recap.ipynb\">here.</a>\n",
    "</p>\n",
    "\n",
    "<p style=\"font-size:16px;\">\n",
    "This notebook covers the processes I underwent as part of this project. Each section is listed below:\n",
    "</p>\n",
    "<ul style=\"font-size:16px;\">\n",
    "<li>Searching for Potential Datasets</li>\n",
    "<li>Constructing a Custom Dataset</li>\n",
    "<li>Preparing Custom Dataset</li>\n",
    "\n",
    "</ul>\n",
    "\n",
    "\n",
    "\n",
    "<p style=\"font-size:16px;\">\n",
    "\n",
    "</p>"
   ]
  },
  {
   "cell_type": "markdown",
   "metadata": {},
   "source": [
    "<h2>Searching for Potential Datasets</h2>"
   ]
  },
  {
   "cell_type": "code",
   "execution_count": null,
   "metadata": {},
   "outputs": [],
   "source": []
  }
 ],
 "metadata": {
  "kernelspec": {
   "display_name": "Python 3",
   "language": "python",
   "name": "python3"
  },
  "language_info": {
   "codemirror_mode": {
    "name": "ipython",
    "version": 3
   },
   "file_extension": ".py",
   "mimetype": "text/x-python",
   "name": "python",
   "nbconvert_exporter": "python",
   "pygments_lexer": "ipython3",
   "version": "3.7.1"
  }
 },
 "nbformat": 4,
 "nbformat_minor": 2
}
