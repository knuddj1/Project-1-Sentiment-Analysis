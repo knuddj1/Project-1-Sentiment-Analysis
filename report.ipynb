{
 "cells": [
  {
   "cell_type": "markdown",
   "metadata": {},
   "source": [
    "<h1>Project 1 Report -  Dean Knudson</h1>"
   ]
  },
  {
   "cell_type": "markdown",
   "metadata": {},
   "source": [
    "<h2>Overview</h2>"
   ]
  },
  {
   "cell_type": "markdown",
   "metadata": {},
   "source": [
    "<p>\n",
    "For my third year project I have continued working with David Rozado on a Sentiment Analysis Engine.\n",
    "\n",
    "Last semester, as part of a special topic study, I began learning about, and creating models for, Sentiment Analysis. The intentions of this project were to create a model that would correctly predict the sentiment of a given piece of text 80% of time. David offered for me to continue working on the problem this semester. Due to to the fact I didn't achieve the result above and the availability of recent advancements in the field of NLP, I accepted.\n",
    "\n",
    "More details on my work last semester can be found \n",
    "<a href=\"https://github.com/knuddj1/Sentiment-Analysis/blob/master/recap%20stuff/semester_recap.ipynb\">here.</a>\n",
    "\n",
    "The official objective of this project is to create a Sentiment Analysis Engine that is able to correctly classify the sentiment of a piece of text into 1 of 3 possible classes (negative, neutral, positive) at a greater, equal or close to equal accuracy as the current state of art sentiment analysis systems. \n",
    "\n",
    "This notebook covers the processes I underwent as part of this project. Each section is listed below:\n",
    "</p>\n",
    "\n",
    "<ul>   \n",
    "<li><a href=\"#Data-Collection\">Data Collection</a></li>\n",
    "<li>Constructing a Custom Dataset</li>\n",
    "<li>Preparing Dataset</li>\n",
    "<li>Establishing Baselines</li>\n",
    "<li>.. ADD MORE .. </li>\n",
    "</ul>"
   ]
  },
  {
   "cell_type": "markdown",
   "metadata": {},
   "source": [
    "<h2>Data Collection</h2>"
   ]
  },
  {
   "cell_type": "markdown",
   "metadata": {},
   "source": [
    "<p>\n",
    "The intial task of a machine learning project is to obtain a dataset, or in this case I used <b>mutliple</b> datasets and created a new dataset out of these combined.\n",
    "\n",
    "David advised me to read <a href=\"https://monkeylearn.com/sentiment-analysis/\">this</a> website as a refresher to refamiliarize myself with the world of sentiment analysis. This website also offered download links to their favourite datasets for experimenting with sentiment analysis and a machine learning approach. Of the 6 datasets available on this website, I used 5. Only not not using the 6th because it offer a view small number of samples.\n",
    "\n",
    "These datasets are:\n",
    "</p>\n",
    "\n",
    "\n",
    "<ul>\n",
    "    \n",
    "<li>\n",
    "<a href=\"https://www.kaggle.com/snap/amazon-fine-food-reviews/downloads/amazon-fine-food-reviews.zip/2\">Amazon Food Reviews</a>\n",
    "- This dataset consists of reviews of fine foods from amazon. The data span a period of more than 10 years, including all 500,000 reviews up to October 2012. Reviews include product and user information, ratings, and a plain text review. It also includes reviews from all other Amazon categories.\n",
    "</li>\n",
    "\n",
    "<br>\n",
    "\n",
    "<li>\n",
    "<a href=\"https://www.kaggle.com/bittlingmayer/amazonreviews/\">Amazon Reviews for Sentiment Analysis</a>\n",
    "-\n",
    "</li>\n",
    "\n",
    "<br>\n",
    "\n",
    "<li>\n",
    "<a href=\"https://www.kaggle.com/crowdflower/twitter-airline-sentiment/\">Twitter US Airline Sentiment</a>\n",
    "-\n",
    "</li>\n",
    "\n",
    "<br>\n",
    "\n",
    "<li>\n",
    "<a href=\"https://www.kaggle.com/crowdflower/first-gop-debate-twitter-sentiment/\">First GOP Debate Twitter Sentiment</a>\n",
    "-\n",
    "</li>\n",
    "\n",
    "<br>\n",
    "\n",
    "<li>\n",
    "<a href=\"https://www.kaggle.com/yelp-dataset/yelp-dataset\">Yelp Dataset</a>\n",
    "-\n",
    "</li>\n",
    "\n",
    "</ul>\n",
    "\n",
    "<br>\n",
    "\n",
    "<p>  \n",
    "I also used <a href=\"http://help.sentiment140.com/\">this</a> dataset that was created by Alec Go, Richa Bhayani, and Lei Huang, who were Computer Science graduate students at Stanford University.\n",
    "</p>"
   ]
  },
  {
   "cell_type": "markdown",
   "metadata": {},
   "source": [
    "<h2>Constructing a Custom Dataset</h2>"
   ]
  },
  {
   "cell_type": "markdown",
   "metadata": {},
   "source": [
    "#TODO"
   ]
  },
  {
   "cell_type": "markdown",
   "metadata": {},
   "source": [
    "<h2>Preparing Dataset</h2>"
   ]
  },
  {
   "cell_type": "markdown",
   "metadata": {},
   "source": [
    "#TODO"
   ]
  },
  {
   "cell_type": "markdown",
   "metadata": {},
   "source": [
    "<h2>Establishing Baselines</h2>"
   ]
  },
  {
   "cell_type": "markdown",
   "metadata": {},
   "source": [
    "#TODO"
   ]
  },
  {
   "cell_type": "code",
   "execution_count": 47,
   "metadata": {},
   "outputs": [
    {
     "data": {
      "text/html": [
       "<style>\n",
       "\n",
       "h1{\n",
       "    text-align: center;\n",
       "    font-size:40px;\n",
       "}\n",
       "p{\n",
       "    font-size:16px;\n",
       "}\n",
       "\n",
       "ul{\n",
       "    font-size:16px;\n",
       "}\n",
       "\n",
       "a{\n",
       "    text-decoration: none !important;\n",
       "    font-weight: bold;\n",
       "    color: peru;\n",
       "}\n",
       "\n",
       "</style>\n"
      ],
      "text/plain": [
       "<IPython.core.display.HTML object>"
      ]
     },
     "execution_count": 47,
     "metadata": {},
     "output_type": "execute_result"
    }
   ],
   "source": [
    "# This cell is responsible for the styling of this notebook.\n",
    "\n",
    "from IPython.core.display import HTML\n",
    "def css_styling():\n",
    "    styles = open(\"custom.css\", \"r\").read()\n",
    "    return HTML(styles)\n",
    "css_styling()"
   ]
  },
  {
   "cell_type": "code",
   "execution_count": null,
   "metadata": {},
   "outputs": [],
   "source": []
  }
 ],
 "metadata": {
  "kernelspec": {
   "display_name": "Python 3",
   "language": "python",
   "name": "python3"
  },
  "language_info": {
   "codemirror_mode": {
    "name": "ipython",
    "version": 3
   },
   "file_extension": ".py",
   "mimetype": "text/x-python",
   "name": "python",
   "nbconvert_exporter": "python",
   "pygments_lexer": "ipython3",
   "version": "3.7.1"
  }
 },
 "nbformat": 4,
 "nbformat_minor": 2
}
